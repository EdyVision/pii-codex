{
 "cells": [
  {
   "cell_type": "markdown",
   "metadata": {
    "collapsed": true,
    "pycharm": {
     "name": "#%% md\n"
    }
   },
   "source": [
    "# PIIDetectionService - MSFT Presidio\n",
    "The following is an example of how to use the PIIDetectionService with the MSFT presidio analyzer\n",
    "\n",
    ">>Note: This notebook requires all dependencies to have been installed. For more information, review readme.\n"
   ]
  },
  {
   "cell_type": "code",
   "execution_count": 1,
   "outputs": [
    {
     "data": {
      "text/plain": "DetectionResultList(detection_results=[DetectionResult(entity_type='EMAIL_ADDRESS', score=1.0, start=74, end=94), DetectionResult(entity_type='PHONE_NUMBER', score=0.75, start=45, end=57)])"
     },
     "execution_count": 1,
     "metadata": {},
     "output_type": "execute_result"
    }
   ],
   "source": [
    "from pii_codex.services.detection_service import PIIDetectionService\n",
    "from pii_codex.models.common import PIIType\n",
    "from pii_codex.models.microsoft_presidio_pii import MSFTPresidioPIIType\n",
    "\n",
    "presidio_entities = [MSFTPresidioPIIType[PIIType.PHONE_NUMBER.name].value,\n",
    "                     MSFTPresidioPIIType[PIIType.EMAIL_ADDRESS.name].value]\n",
    "\n",
    "# Perform PII detection with MSFT Presidio\n",
    "detection_results = PIIDetectionService().analyze_with_msft_presidio(\n",
    "    text=\"Here is my contact information: Phone number 555-555-5555 and my email is example123@email.com\",\n",
    "    entities=presidio_entities,\n",
    "    language_code=\"en\"\n",
    ")\n",
    "\n",
    "detection_results"
   ],
   "metadata": {
    "collapsed": false,
    "pycharm": {
     "name": "#%%\n"
    }
   }
  },
  {
   "cell_type": "code",
   "execution_count": 2,
   "outputs": [
    {
     "name": "stdout",
     "output_type": "stream",
     "text": [
      "DetectionResult(entity_type='EMAIL_ADDRESS', score=1.0, start=74, end=94)\n",
      "DetectionResult(entity_type='PHONE_NUMBER', score=0.75, start=45, end=57)\n"
     ]
    }
   ],
   "source": [
    "# Loop through all detected PII\n",
    "for detected_pii in detection_results.detection_results:\n",
    "    print(detected_pii)"
   ],
   "metadata": {
    "collapsed": false,
    "pycharm": {
     "name": "#%%\n"
    }
   }
  },
  {
   "cell_type": "markdown",
   "source": [
    "Alternatively, the analysis service can be called, and it will provide both the detections and the severity scores for any detections listed."
   ],
   "metadata": {
    "collapsed": false,
    "pycharm": {
     "name": "#%% md\n"
    }
   }
  },
  {
   "cell_type": "code",
   "execution_count": 6,
   "outputs": [
    {
     "name": "stdout",
     "output_type": "stream",
     "text": [
      "Mean Score for Assessment:  2.6666666666666665\n",
      "Data from Assessment:\n"
     ]
    },
    {
     "data": {
      "text/plain": "  pii_type_detected  risk_level risk_level_definition cluster_membership_type  \\\n0     EMAIL_ADDRESS           3          Identifiable    Personal Preferences   \n1      PHONE_NUMBER           3          Identifiable     Contact Information   \n2               URL           2     Semi-Identifiable   Community Interaction   \n\n                     hipaa_category     dhs_category nist_category  \\\n0      Protected Health Information  Stand Alone PII  Directly PII   \n1      Protected Health Information  Stand Alone PII  Directly PII   \n2  Not Protected Health Information         Linkable      Linkable   \n\n     entity_type  score  start  end  \n0  EMAIL_ADDRESS   1.00     74   94  \n1   PHONE_NUMBER   0.75     45   57  \n2            URL   0.50     85   94  ",
      "text/html": "<div>\n<style scoped>\n    .dataframe tbody tr th:only-of-type {\n        vertical-align: middle;\n    }\n\n    .dataframe tbody tr th {\n        vertical-align: top;\n    }\n\n    .dataframe thead th {\n        text-align: right;\n    }\n</style>\n<table border=\"1\" class=\"dataframe\">\n  <thead>\n    <tr style=\"text-align: right;\">\n      <th></th>\n      <th>pii_type_detected</th>\n      <th>risk_level</th>\n      <th>risk_level_definition</th>\n      <th>cluster_membership_type</th>\n      <th>hipaa_category</th>\n      <th>dhs_category</th>\n      <th>nist_category</th>\n      <th>entity_type</th>\n      <th>score</th>\n      <th>start</th>\n      <th>end</th>\n    </tr>\n  </thead>\n  <tbody>\n    <tr>\n      <th>0</th>\n      <td>EMAIL_ADDRESS</td>\n      <td>3</td>\n      <td>Identifiable</td>\n      <td>Personal Preferences</td>\n      <td>Protected Health Information</td>\n      <td>Stand Alone PII</td>\n      <td>Directly PII</td>\n      <td>EMAIL_ADDRESS</td>\n      <td>1.00</td>\n      <td>74</td>\n      <td>94</td>\n    </tr>\n    <tr>\n      <th>1</th>\n      <td>PHONE_NUMBER</td>\n      <td>3</td>\n      <td>Identifiable</td>\n      <td>Contact Information</td>\n      <td>Protected Health Information</td>\n      <td>Stand Alone PII</td>\n      <td>Directly PII</td>\n      <td>PHONE_NUMBER</td>\n      <td>0.75</td>\n      <td>45</td>\n      <td>57</td>\n    </tr>\n    <tr>\n      <th>2</th>\n      <td>URL</td>\n      <td>2</td>\n      <td>Semi-Identifiable</td>\n      <td>Community Interaction</td>\n      <td>Not Protected Health Information</td>\n      <td>Linkable</td>\n      <td>Linkable</td>\n      <td>URL</td>\n      <td>0.50</td>\n      <td>85</td>\n      <td>94</td>\n    </tr>\n  </tbody>\n</table>\n</div>"
     },
     "execution_count": 6,
     "metadata": {},
     "output_type": "execute_result"
    }
   ],
   "source": [
    "from pii_codex.models.common import AnalysisProviderType, AnalysisEncoder\n",
    "from pii_codex.services.analysis_service import PIIAnalysisService\n",
    "from pii_codex.services.ranking_service import PIIRanker\n",
    "import pandas as pd\n",
    "\n",
    "analysis_results = PIIAnalysisService().run_analysis(\n",
    "    analysis_provider=AnalysisProviderType.MICROSOFT_PRESIDIO_ANALYSIS.name,\n",
    "    text=\"Here is my contact information: Phone number 555-555-5555 and my email is example123@email.com\",\n",
    "    language_code=\"en\"\n",
    ")\n",
    "\n",
    "mean_risk_score = PIIRanker().calculate_risk_assessment_score_average(analysis_results.analysis_results)\n",
    "\n",
    "results = AnalysisEncoder().encode(analysis_results.analysis_results)\n",
    "df = pd.DataFrame(analysis_results.to_dict())\n",
    "print(\"Mean Score for Assessment: \", mean_risk_score)\n",
    "print(\"Data from Assessment:\")\n",
    "df"
   ],
   "metadata": {
    "collapsed": false,
    "pycharm": {
     "name": "#%%\n"
    }
   }
  },
  {
   "cell_type": "markdown",
   "source": [],
   "metadata": {
    "collapsed": false,
    "pycharm": {
     "name": "#%% md\n"
    }
   }
  }
 ],
 "metadata": {
  "kernelspec": {
   "name": "venv",
   "language": "python",
   "display_name": "venv"
  },
  "language_info": {
   "codemirror_mode": {
    "name": "ipython",
    "version": 2
   },
   "file_extension": ".py",
   "mimetype": "text/x-python",
   "name": "python",
   "nbconvert_exporter": "python",
   "pygments_lexer": "ipython2",
   "version": "2.7.6"
  }
 },
 "nbformat": 4,
 "nbformat_minor": 0
}