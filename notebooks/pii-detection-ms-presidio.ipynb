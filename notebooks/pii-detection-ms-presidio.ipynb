{
 "cells": [
  {
   "cell_type": "markdown",
   "metadata": {
    "collapsed": true,
    "pycharm": {
     "name": "#%% md\n"
    }
   },
   "source": [
    "# PIIDetectionService - MSFT Presidio\n",
    "The following is an example of how to use the PIIDetectionService with the MSFT presidio analyzer\n",
    "\n",
    ">>Note: This notebook requires all dependencies to have been installed. For more information, review readme.\n"
   ]
  },
  {
   "cell_type": "code",
   "execution_count": 6,
   "outputs": [
    {
     "data": {
      "text/plain": "AnalysisResultList(analysis_results=[AnalysisResult(entity_type='EMAIL_ADDRESS', score=1.0, recognizer_name='recognizer_name', start=74, end=94), AnalysisResult(entity_type='PHONE_NUMBER', score=0.75, recognizer_name='recognizer_name', start=45, end=57)])"
     },
     "execution_count": 6,
     "metadata": {},
     "output_type": "execute_result"
    }
   ],
   "source": [
    "from pii_codex.services.detection_service import PIIDetectionService\n",
    "from pii_codex.models.common import PIIType\n",
    "from pii_codex.models.microsoft_presidio_pii import MSFTPresidioPIIType\n",
    "\n",
    "presidio_entities = [MSFTPresidioPIIType[PIIType.PHONE_NUMBER.name].value,\n",
    "                     MSFTPresidioPIIType[PIIType.EMAIL_ADDRESS.name].value]\n",
    "\n",
    "# Perform PII detection with MSFT Presidio\n",
    "analysis_results = PIIDetectionService().analyze_with_msft_presidio(\n",
    "    text=\"Here is my contact information: Phone number 555-555-5555 and my email is example123@email.com\",\n",
    "    entities=presidio_entities\n",
    ")\n",
    "\n",
    "analysis_results"
   ],
   "metadata": {
    "collapsed": false,
    "pycharm": {
     "name": "#%%\n"
    }
   }
  },
  {
   "cell_type": "code",
   "execution_count": 8,
   "outputs": [
    {
     "name": "stdout",
     "output_type": "stream",
     "text": [
      "AnalysisResult(entity_type='EMAIL_ADDRESS', score=1.0, recognizer_name='recognizer_name', start=74, end=94)\n",
      "AnalysisResult(entity_type='PHONE_NUMBER', score=0.75, recognizer_name='recognizer_name', start=45, end=57)\n"
     ]
    }
   ],
   "source": [
    "# Loop through all detected PII\n",
    "for detected_pii in analysis_results.analysis_results:\n",
    "    print(detected_pii)"
   ],
   "metadata": {
    "collapsed": false,
    "pycharm": {
     "name": "#%%\n"
    }
   }
  },
  {
   "cell_type": "markdown",
   "source": [],
   "metadata": {
    "collapsed": false,
    "pycharm": {
     "name": "#%% md\n"
    }
   }
  }
 ],
 "metadata": {
  "kernelspec": {
   "name": "venv",
   "language": "python",
   "display_name": "venv"
  },
  "language_info": {
   "codemirror_mode": {
    "name": "ipython",
    "version": 2
   },
   "file_extension": ".py",
   "mimetype": "text/x-python",
   "name": "python",
   "nbconvert_exporter": "python",
   "pygments_lexer": "ipython2",
   "version": "2.7.6"
  }
 },
 "nbformat": 4,
 "nbformat_minor": 0
}