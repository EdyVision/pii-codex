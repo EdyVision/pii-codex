{
 "cells": [
  {
   "cell_type": "markdown",
   "source": [
    "# Bulk PII Analysis\n",
    "The following focuses on bulk PII mapping and analysis using Presidio as the primary analyzer.\n",
    "\n",
    ">> This notebook requires initial set up steps to be completed. For more information, review readme."
   ],
   "metadata": {
    "collapsed": false
   }
  },
  {
   "cell_type": "code",
   "execution_count": 1,
   "outputs": [
    {
     "data": {
      "text/plain": "                                 Information_Type  \\\n0                                  Place of Birth   \n1                                            Race   \n2                                          Height   \n3                                  Marital Status   \n4                          Country of Citizenship   \n..                                            ...   \n64                              AU Company Number   \n65                      AU Medical Account Number   \n66                             AU Tax File Number   \n67                   ES Tax Identification Number   \n68  SG National Registration Identity Card Number   \n\n                                         PII_Type Cluster_Membership_Type  \\\n0                                  PLACE_OF_BIRTH      Basic Demographics   \n1                                            RACE      Basic Demographics   \n2                                          HEIGHT      Basic Demographics   \n3                                  MARITAL_STATUS      Basic Demographics   \n4                          COUNTRY_OF_CITIZENSHIP      Basic Demographics   \n..                                            ...                     ...   \n64                              AU_COMPANY_NUMBER      Secure Identifiers   \n65                      AU_MEDICAL_ACCOUNT_NUMBER      Secure Identifiers   \n66                             AU_TAX_FILE_NUMBER      Secure Identifiers   \n67                   ES_TAX_IDENTIFICATION_NUMBER      Secure Identifiers   \n68  SG_NATIONAL_REGISTRATION_IDENTITY_CARD_NUMBER      Secure Identifiers   \n\n   NIST_Category     DHS_Category HIPAA_Protected_Health_Information_Category  \\\n0       Linkable    Not Mentioned                                     NON_PHI   \n1       Linkable         Linkable                                         PHI   \n2       Linkable    Not Mentioned                                         PHI   \n3       Linkable    Not Mentioned                                     NON_PHI   \n4       Linkable         Linkable                                         PHI   \n..           ...              ...                                         ...   \n64  Directly PII  Stand Alone PII                                     NON_PHI   \n65  Directly PII  Stand Alone PII                                         PHI   \n66  Directly PII  Stand Alone PII                                     NON_PHI   \n67  Directly PII  Stand Alone PII                                     NON_PHI   \n68  Directly PII  Stand Alone PII                                     NON_PHI   \n\n           Risk_Level  \n0   Semi-Identifiable  \n1   Semi-Identifiable  \n2   Semi-Identifiable  \n3   Semi-Identifiable  \n4   Semi-Identifiable  \n..                ...  \n64       Identifiable  \n65       Identifiable  \n66       Identifiable  \n67       Identifiable  \n68       Identifiable  \n\n[69 rows x 7 columns]",
      "text/html": "<div>\n<style scoped>\n    .dataframe tbody tr th:only-of-type {\n        vertical-align: middle;\n    }\n\n    .dataframe tbody tr th {\n        vertical-align: top;\n    }\n\n    .dataframe thead th {\n        text-align: right;\n    }\n</style>\n<table border=\"1\" class=\"dataframe\">\n  <thead>\n    <tr style=\"text-align: right;\">\n      <th></th>\n      <th>Information_Type</th>\n      <th>PII_Type</th>\n      <th>Cluster_Membership_Type</th>\n      <th>NIST_Category</th>\n      <th>DHS_Category</th>\n      <th>HIPAA_Protected_Health_Information_Category</th>\n      <th>Risk_Level</th>\n    </tr>\n  </thead>\n  <tbody>\n    <tr>\n      <th>0</th>\n      <td>Place of Birth</td>\n      <td>PLACE_OF_BIRTH</td>\n      <td>Basic Demographics</td>\n      <td>Linkable</td>\n      <td>Not Mentioned</td>\n      <td>NON_PHI</td>\n      <td>Semi-Identifiable</td>\n    </tr>\n    <tr>\n      <th>1</th>\n      <td>Race</td>\n      <td>RACE</td>\n      <td>Basic Demographics</td>\n      <td>Linkable</td>\n      <td>Linkable</td>\n      <td>PHI</td>\n      <td>Semi-Identifiable</td>\n    </tr>\n    <tr>\n      <th>2</th>\n      <td>Height</td>\n      <td>HEIGHT</td>\n      <td>Basic Demographics</td>\n      <td>Linkable</td>\n      <td>Not Mentioned</td>\n      <td>PHI</td>\n      <td>Semi-Identifiable</td>\n    </tr>\n    <tr>\n      <th>3</th>\n      <td>Marital Status</td>\n      <td>MARITAL_STATUS</td>\n      <td>Basic Demographics</td>\n      <td>Linkable</td>\n      <td>Not Mentioned</td>\n      <td>NON_PHI</td>\n      <td>Semi-Identifiable</td>\n    </tr>\n    <tr>\n      <th>4</th>\n      <td>Country of Citizenship</td>\n      <td>COUNTRY_OF_CITIZENSHIP</td>\n      <td>Basic Demographics</td>\n      <td>Linkable</td>\n      <td>Linkable</td>\n      <td>PHI</td>\n      <td>Semi-Identifiable</td>\n    </tr>\n    <tr>\n      <th>...</th>\n      <td>...</td>\n      <td>...</td>\n      <td>...</td>\n      <td>...</td>\n      <td>...</td>\n      <td>...</td>\n      <td>...</td>\n    </tr>\n    <tr>\n      <th>64</th>\n      <td>AU Company Number</td>\n      <td>AU_COMPANY_NUMBER</td>\n      <td>Secure Identifiers</td>\n      <td>Directly PII</td>\n      <td>Stand Alone PII</td>\n      <td>NON_PHI</td>\n      <td>Identifiable</td>\n    </tr>\n    <tr>\n      <th>65</th>\n      <td>AU Medical Account Number</td>\n      <td>AU_MEDICAL_ACCOUNT_NUMBER</td>\n      <td>Secure Identifiers</td>\n      <td>Directly PII</td>\n      <td>Stand Alone PII</td>\n      <td>PHI</td>\n      <td>Identifiable</td>\n    </tr>\n    <tr>\n      <th>66</th>\n      <td>AU Tax File Number</td>\n      <td>AU_TAX_FILE_NUMBER</td>\n      <td>Secure Identifiers</td>\n      <td>Directly PII</td>\n      <td>Stand Alone PII</td>\n      <td>NON_PHI</td>\n      <td>Identifiable</td>\n    </tr>\n    <tr>\n      <th>67</th>\n      <td>ES Tax Identification Number</td>\n      <td>ES_TAX_IDENTIFICATION_NUMBER</td>\n      <td>Secure Identifiers</td>\n      <td>Directly PII</td>\n      <td>Stand Alone PII</td>\n      <td>NON_PHI</td>\n      <td>Identifiable</td>\n    </tr>\n    <tr>\n      <th>68</th>\n      <td>SG National Registration Identity Card Number</td>\n      <td>SG_NATIONAL_REGISTRATION_IDENTITY_CARD_NUMBER</td>\n      <td>Secure Identifiers</td>\n      <td>Directly PII</td>\n      <td>Stand Alone PII</td>\n      <td>NON_PHI</td>\n      <td>Identifiable</td>\n    </tr>\n  </tbody>\n</table>\n<p>69 rows × 7 columns</p>\n</div>"
     },
     "execution_count": 1,
     "metadata": {},
     "output_type": "execute_result"
    }
   ],
   "source": [
    "\n",
    "from pii_codex.utils import pii_mapping_util\n",
    "# Confirm data frame loaded from csv mapping file\n",
    "csv_file_dataframe = pii_mapping_util.open_pii_type_mapping_csv(\"v1\")\n",
    "csv_file_dataframe"
   ],
   "metadata": {
    "collapsed": false,
    "pycharm": {
     "name": "#%%\n"
    }
   }
  },
  {
   "cell_type": "code",
   "execution_count": 2,
   "outputs": [
    {
     "data": {
      "text/plain": "                                 Information_Type  \\\n0                                  Place of Birth   \n1                                            Race   \n2                                          Height   \n3                                  Marital Status   \n4                          Country of Citizenship   \n..                                            ...   \n64                              AU Company Number   \n65                      AU Medical Account Number   \n66                             AU Tax File Number   \n67                   ES Tax Identification Number   \n68  SG National Registration Identity Card Number   \n\n                                         PII_Type Cluster_Membership_Type  \\\n0                                  PLACE_OF_BIRTH      Basic Demographics   \n1                                            RACE      Basic Demographics   \n2                                          HEIGHT      Basic Demographics   \n3                                  MARITAL_STATUS      Basic Demographics   \n4                          COUNTRY_OF_CITIZENSHIP      Basic Demographics   \n..                                            ...                     ...   \n64                              AU_COMPANY_NUMBER      Secure Identifiers   \n65                      AU_MEDICAL_ACCOUNT_NUMBER      Secure Identifiers   \n66                             AU_TAX_FILE_NUMBER      Secure Identifiers   \n67                   ES_TAX_IDENTIFICATION_NUMBER      Secure Identifiers   \n68  SG_NATIONAL_REGISTRATION_IDENTITY_CARD_NUMBER      Secure Identifiers   \n\n   NIST_Category     DHS_Category HIPAA_Protected_Health_Information_Category  \\\n0       Linkable    Not Mentioned                                     NON_PHI   \n1       Linkable         Linkable                                         PHI   \n2       Linkable    Not Mentioned                                         PHI   \n3       Linkable    Not Mentioned                                     NON_PHI   \n4       Linkable         Linkable                                         PHI   \n..           ...              ...                                         ...   \n64  Directly PII  Stand Alone PII                                     NON_PHI   \n65  Directly PII  Stand Alone PII                                         PHI   \n66  Directly PII  Stand Alone PII                                     NON_PHI   \n67  Directly PII  Stand Alone PII                                     NON_PHI   \n68  Directly PII  Stand Alone PII                                     NON_PHI   \n\n           Risk_Level  \n0   Semi-Identifiable  \n1   Semi-Identifiable  \n2   Semi-Identifiable  \n3   Semi-Identifiable  \n4   Semi-Identifiable  \n..                ...  \n64       Identifiable  \n65       Identifiable  \n66       Identifiable  \n67       Identifiable  \n68       Identifiable  \n\n[69 rows x 7 columns]",
      "text/html": "<div>\n<style scoped>\n    .dataframe tbody tr th:only-of-type {\n        vertical-align: middle;\n    }\n\n    .dataframe tbody tr th {\n        vertical-align: top;\n    }\n\n    .dataframe thead th {\n        text-align: right;\n    }\n</style>\n<table border=\"1\" class=\"dataframe\">\n  <thead>\n    <tr style=\"text-align: right;\">\n      <th></th>\n      <th>Information_Type</th>\n      <th>PII_Type</th>\n      <th>Cluster_Membership_Type</th>\n      <th>NIST_Category</th>\n      <th>DHS_Category</th>\n      <th>HIPAA_Protected_Health_Information_Category</th>\n      <th>Risk_Level</th>\n    </tr>\n  </thead>\n  <tbody>\n    <tr>\n      <th>0</th>\n      <td>Place of Birth</td>\n      <td>PLACE_OF_BIRTH</td>\n      <td>Basic Demographics</td>\n      <td>Linkable</td>\n      <td>Not Mentioned</td>\n      <td>NON_PHI</td>\n      <td>Semi-Identifiable</td>\n    </tr>\n    <tr>\n      <th>1</th>\n      <td>Race</td>\n      <td>RACE</td>\n      <td>Basic Demographics</td>\n      <td>Linkable</td>\n      <td>Linkable</td>\n      <td>PHI</td>\n      <td>Semi-Identifiable</td>\n    </tr>\n    <tr>\n      <th>2</th>\n      <td>Height</td>\n      <td>HEIGHT</td>\n      <td>Basic Demographics</td>\n      <td>Linkable</td>\n      <td>Not Mentioned</td>\n      <td>PHI</td>\n      <td>Semi-Identifiable</td>\n    </tr>\n    <tr>\n      <th>3</th>\n      <td>Marital Status</td>\n      <td>MARITAL_STATUS</td>\n      <td>Basic Demographics</td>\n      <td>Linkable</td>\n      <td>Not Mentioned</td>\n      <td>NON_PHI</td>\n      <td>Semi-Identifiable</td>\n    </tr>\n    <tr>\n      <th>4</th>\n      <td>Country of Citizenship</td>\n      <td>COUNTRY_OF_CITIZENSHIP</td>\n      <td>Basic Demographics</td>\n      <td>Linkable</td>\n      <td>Linkable</td>\n      <td>PHI</td>\n      <td>Semi-Identifiable</td>\n    </tr>\n    <tr>\n      <th>...</th>\n      <td>...</td>\n      <td>...</td>\n      <td>...</td>\n      <td>...</td>\n      <td>...</td>\n      <td>...</td>\n      <td>...</td>\n    </tr>\n    <tr>\n      <th>64</th>\n      <td>AU Company Number</td>\n      <td>AU_COMPANY_NUMBER</td>\n      <td>Secure Identifiers</td>\n      <td>Directly PII</td>\n      <td>Stand Alone PII</td>\n      <td>NON_PHI</td>\n      <td>Identifiable</td>\n    </tr>\n    <tr>\n      <th>65</th>\n      <td>AU Medical Account Number</td>\n      <td>AU_MEDICAL_ACCOUNT_NUMBER</td>\n      <td>Secure Identifiers</td>\n      <td>Directly PII</td>\n      <td>Stand Alone PII</td>\n      <td>PHI</td>\n      <td>Identifiable</td>\n    </tr>\n    <tr>\n      <th>66</th>\n      <td>AU Tax File Number</td>\n      <td>AU_TAX_FILE_NUMBER</td>\n      <td>Secure Identifiers</td>\n      <td>Directly PII</td>\n      <td>Stand Alone PII</td>\n      <td>NON_PHI</td>\n      <td>Identifiable</td>\n    </tr>\n    <tr>\n      <th>67</th>\n      <td>ES Tax Identification Number</td>\n      <td>ES_TAX_IDENTIFICATION_NUMBER</td>\n      <td>Secure Identifiers</td>\n      <td>Directly PII</td>\n      <td>Stand Alone PII</td>\n      <td>NON_PHI</td>\n      <td>Identifiable</td>\n    </tr>\n    <tr>\n      <th>68</th>\n      <td>SG National Registration Identity Card Number</td>\n      <td>SG_NATIONAL_REGISTRATION_IDENTITY_CARD_NUMBER</td>\n      <td>Secure Identifiers</td>\n      <td>Directly PII</td>\n      <td>Stand Alone PII</td>\n      <td>NON_PHI</td>\n      <td>Identifiable</td>\n    </tr>\n  </tbody>\n</table>\n<p>69 rows × 7 columns</p>\n</div>"
     },
     "execution_count": 2,
     "metadata": {},
     "output_type": "execute_result"
    }
   ],
   "source": [
    "# Confirm data frame loaded from json mapping file\n",
    "json_file_dataframe = pii_mapping_util.open_pii_type_mapping_json(\"v1\")\n",
    "json_file_dataframe"
   ],
   "metadata": {
    "collapsed": false,
    "pycharm": {
     "name": "#%%\n"
    }
   }
  },
  {
   "cell_type": "code",
   "execution_count": 3,
   "outputs": [
    {
     "data": {
      "text/plain": "   Information_Type    PII_Type Cluster_Membership_Type NIST_Category  \\\n24       IP Address  IP_ADDRESS     Contact Information  Directly PII   \n\n     DHS_Category HIPAA_Protected_Health_Information_Category    Risk_Level  \n24  Not Mentioned                                         PHI  Identifiable  ",
      "text/html": "<div>\n<style scoped>\n    .dataframe tbody tr th:only-of-type {\n        vertical-align: middle;\n    }\n\n    .dataframe tbody tr th {\n        vertical-align: top;\n    }\n\n    .dataframe thead th {\n        text-align: right;\n    }\n</style>\n<table border=\"1\" class=\"dataframe\">\n  <thead>\n    <tr style=\"text-align: right;\">\n      <th></th>\n      <th>Information_Type</th>\n      <th>PII_Type</th>\n      <th>Cluster_Membership_Type</th>\n      <th>NIST_Category</th>\n      <th>DHS_Category</th>\n      <th>HIPAA_Protected_Health_Information_Category</th>\n      <th>Risk_Level</th>\n    </tr>\n  </thead>\n  <tbody>\n    <tr>\n      <th>24</th>\n      <td>IP Address</td>\n      <td>IP_ADDRESS</td>\n      <td>Contact Information</td>\n      <td>Directly PII</td>\n      <td>Not Mentioned</td>\n      <td>PHI</td>\n      <td>Identifiable</td>\n    </tr>\n  </tbody>\n</table>\n</div>"
     },
     "execution_count": 3,
     "metadata": {},
     "output_type": "execute_result"
    }
   ],
   "source": [
    "\n",
    "# Retrieving the entries for \"IP Address\" Information Type, for example\n",
    "ip_address = json_file_dataframe[json_file_dataframe.Information_Type=='IP Address']\n",
    "ip_address"
   ],
   "metadata": {
    "collapsed": false,
    "pycharm": {
     "name": "#%%\n"
    }
   }
  },
  {
   "cell_type": "code",
   "execution_count": 5,
   "outputs": [
    {
     "name": "stdout",
     "output_type": "stream",
     "text": [
      "Enum Type Name for IP Address:  IP_ADDRESS\n",
      "Enum Type Name for IP Address:  IP_ADDRESS\n"
     ]
    }
   ],
   "source": [
    "# Retrieving the name for PII_Type Enum from dataframe and mapping it to common PII Type\n",
    "from pii_codex.models.common import PIIType\n",
    "\n",
    "pii_type_name = ip_address.PII_Type.item()\n",
    "\n",
    "pii_type = PIIType[pii_type_name]\n",
    "print(\"Enum Type Name for IP Address: \", pii_type.name)\n",
    "print(\"Enum Type Name for IP Address: \", pii_type.value)"
   ],
   "metadata": {
    "collapsed": false,
    "pycharm": {
     "name": "#%%\n"
    }
   }
  },
  {
   "cell_type": "code",
   "execution_count": 7,
   "outputs": [
    {
     "name": "stdout",
     "output_type": "stream",
     "text": [
      "Enum Type Name for Email:  EMAIL_ADDRESS\n",
      "Enum Type Value for Email:  EMAIL_ADDRESS\n"
     ]
    }
   ],
   "source": [
    "# Mapping a common PII Type to Third-Party Type (view models folder for currently supported types)\n",
    "from pii_codex.models.microsoft_presidio_pii import MSFTPresidioPIIType\n",
    "\n",
    "presidio_pii_type = MSFTPresidioPIIType[PIIType.EMAIL_ADDRESS.name]\n",
    "\n",
    "print(\"Enum Type Name for Email: \", presidio_pii_type.name)\n",
    "print(\"Enum Type Value for Email: \", presidio_pii_type.value)"
   ],
   "metadata": {
    "collapsed": false,
    "pycharm": {
     "name": "#%%\n"
    }
   }
  }
 ],
 "metadata": {
  "kernelspec": {
   "name": "venv",
   "language": "python",
   "display_name": "venv"
  },
  "language_info": {
   "codemirror_mode": {
    "name": "ipython",
    "version": 2
   },
   "file_extension": ".py",
   "mimetype": "text/x-python",
   "name": "python",
   "nbconvert_exporter": "python",
   "pygments_lexer": "ipython2",
   "version": "2.7.6"
  }
 },
 "nbformat": 4,
 "nbformat_minor": 0
}