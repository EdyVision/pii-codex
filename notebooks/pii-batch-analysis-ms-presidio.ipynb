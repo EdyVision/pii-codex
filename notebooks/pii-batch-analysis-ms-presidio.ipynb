{
 "cells": [
  {
   "cell_type": "markdown",
   "metadata": {
    "collapsed": true,
    "pycharm": {
     "name": "#%% md\n"
    }
   },
   "source": [
    "# PIIAnalysisService - MSFT Presidio Analyzer Type with list of text to analyze\n",
    "The following is an example of how to use the PIIAnalysisService with the MSFT presidio analyzer on a large set of PII.\n",
    "\n",
    ">>Note: This notebook requires all dependencies to have been installed. For more information, review readme.\n"
   ]
  },
  {
   "cell_type": "code",
   "execution_count": 59,
   "outputs": [
    {
     "data": {
      "text/plain": "                                            analyses  index  averageRiskScore\n0  [{'pii_type_detected': 'EMAIL_ADDRESS', 'risk_...      0          2.666667\n1  [{'pii_type_detected': 'LOCATION', 'risk_level...      1          2.000000\n2                                                 []      2          1.000000",
      "text/html": "<div>\n<style scoped>\n    .dataframe tbody tr th:only-of-type {\n        vertical-align: middle;\n    }\n\n    .dataframe tbody tr th {\n        vertical-align: top;\n    }\n\n    .dataframe thead th {\n        text-align: right;\n    }\n</style>\n<table border=\"1\" class=\"dataframe\">\n  <thead>\n    <tr style=\"text-align: right;\">\n      <th></th>\n      <th>analyses</th>\n      <th>index</th>\n      <th>averageRiskScore</th>\n    </tr>\n  </thead>\n  <tbody>\n    <tr>\n      <th>0</th>\n      <td>[{'pii_type_detected': 'EMAIL_ADDRESS', 'risk_...</td>\n      <td>0</td>\n      <td>2.666667</td>\n    </tr>\n    <tr>\n      <th>1</th>\n      <td>[{'pii_type_detected': 'LOCATION', 'risk_level...</td>\n      <td>1</td>\n      <td>2.000000</td>\n    </tr>\n    <tr>\n      <th>2</th>\n      <td>[]</td>\n      <td>2</td>\n      <td>1.000000</td>\n    </tr>\n  </tbody>\n</table>\n</div>"
     },
     "execution_count": 59,
     "metadata": {},
     "output_type": "execute_result"
    }
   ],
   "source": [
    "from pii_codex.models.common import AnalysisProviderType, AnalysisEncoder\n",
    "from pii_codex.services.pii_analysis import PII_ANALYSIS_SERVICE\n",
    "import pandas as pd\n",
    "\n",
    "# Run the detection and assessments in one shot with the PIIAnalysisService\n",
    "analysis_results = PII_ANALYSIS_SERVICE.run_batch_analysis_and_score(\n",
    "    analysis_provider=AnalysisProviderType.PRESIDIO.name,\n",
    "    texts=[\n",
    "        \"Here is my contact information: Phone number 555-555-5555 and my email is example123@email.com\",\n",
    "        \"Perfect, mine number if you need me is 777-777=7777. Where is the residence and what is the earliest the crew can arrive?\"\n",
    "        \"I'll be at my home at 123 Dark Data Lane, OH, 11111 after 7PM\",\n",
    "        \"Cool, I'll be there!\"\n",
    "        ],\n",
    "    language_code=\"en\"\n",
    ")\n",
    "\n",
    "results = AnalysisEncoder().encode(analysis_results.batched_analyses)\n",
    "batched_df = pd.DataFrame(analysis_results.to_dict()['batchedAnalyses'])\n",
    "\n",
    "batched_df"
   ],
   "metadata": {
    "collapsed": false,
    "pycharm": {
     "name": "#%%\n"
    }
   }
  },
  {
   "cell_type": "code",
   "execution_count": 60,
   "outputs": [
    {
     "data": {
      "text/plain": "   average_risk_score  pii_count                  pii_types_detected  \\\n0            2.666667          3  [EMAIL_ADDRESS, PHONE_NUMBER, URL]   \n1            2.000000          1                          [LOCATION]   \n2            1.000000          0                                 NaN   \n\n                            risk_level_definitions  \\\n0  [Identifiable, Identifiable, Semi-Identifiable]   \n1                              [Semi-Identifiable]   \n2                                              NaN   \n\n                            cluster_membership_types  \\\n0  [Personal Preferences, Contact Information, Co...   \n1                               [Secure Identifiers]   \n2                                                NaN   \n\n                                    hipaa_categories  \\\n0  [Protected Health Information, Protected Healt...   \n1                     [Protected Health Information]   \n2                                                NaN   \n\n                                 dhs_categories  \\\n0  [Stand Alone PII, Stand Alone PII, Linkable]   \n1                               [Not Mentioned]   \n2                                           NaN   \n\n                          nist_categories  \n0  [Directly PII, Directly PII, Linkable]  \n1                              [Linkable]  \n2                                     NaN  ",
      "text/html": "<div>\n<style scoped>\n    .dataframe tbody tr th:only-of-type {\n        vertical-align: middle;\n    }\n\n    .dataframe tbody tr th {\n        vertical-align: top;\n    }\n\n    .dataframe thead th {\n        text-align: right;\n    }\n</style>\n<table border=\"1\" class=\"dataframe\">\n  <thead>\n    <tr style=\"text-align: right;\">\n      <th></th>\n      <th>average_risk_score</th>\n      <th>pii_count</th>\n      <th>pii_types_detected</th>\n      <th>risk_level_definitions</th>\n      <th>cluster_membership_types</th>\n      <th>hipaa_categories</th>\n      <th>dhs_categories</th>\n      <th>nist_categories</th>\n    </tr>\n  </thead>\n  <tbody>\n    <tr>\n      <th>0</th>\n      <td>2.666667</td>\n      <td>3</td>\n      <td>[EMAIL_ADDRESS, PHONE_NUMBER, URL]</td>\n      <td>[Identifiable, Identifiable, Semi-Identifiable]</td>\n      <td>[Personal Preferences, Contact Information, Co...</td>\n      <td>[Protected Health Information, Protected Healt...</td>\n      <td>[Stand Alone PII, Stand Alone PII, Linkable]</td>\n      <td>[Directly PII, Directly PII, Linkable]</td>\n    </tr>\n    <tr>\n      <th>1</th>\n      <td>2.000000</td>\n      <td>1</td>\n      <td>[LOCATION]</td>\n      <td>[Semi-Identifiable]</td>\n      <td>[Secure Identifiers]</td>\n      <td>[Protected Health Information]</td>\n      <td>[Not Mentioned]</td>\n      <td>[Linkable]</td>\n    </tr>\n    <tr>\n      <th>2</th>\n      <td>1.000000</td>\n      <td>0</td>\n      <td>NaN</td>\n      <td>NaN</td>\n      <td>NaN</td>\n      <td>NaN</td>\n      <td>NaN</td>\n      <td>NaN</td>\n    </tr>\n  </tbody>\n</table>\n</div>"
     },
     "execution_count": 60,
     "metadata": {},
     "output_type": "execute_result"
    }
   ],
   "source": [
    "\n",
    "from typing import List\n",
    "\n",
    "batched_analyses = analysis_results.to_dict()['batchedAnalyses']\n",
    "batches: List[dict] = []\n",
    "\n",
    "for batch_index in range(0, len(batched_analyses)):\n",
    "\n",
    "    batch = {}\n",
    "\n",
    "    analyses_df = pd.DataFrame(batched_analyses[batch_index]['analyses'])\n",
    "    if batched_analyses[batch_index]['analyses']:\n",
    "        batch = {\n",
    "            \"average_risk_score\": batched_analyses[batch_index]['averageRiskScore'],\n",
    "            \"pii_count\": len(batched_analyses[batch_index]['analyses']),\n",
    "            \"pii_types_detected\": analyses_df['pii_type_detected'].values.tolist(),\n",
    "            \"risk_level_definitions\": analyses_df['risk_level_definition'].values.tolist(),\n",
    "            \"cluster_membership_types\": analyses_df['cluster_membership_type'].values.tolist(),\n",
    "            \"hipaa_categories\": analyses_df['hipaa_category'].values.tolist(),\n",
    "            \"dhs_categories\": analyses_df['dhs_category'].values.tolist(),\n",
    "            \"nist_categories\": analyses_df['nist_category'].values.tolist(),\n",
    "        }\n",
    "    else:\n",
    "        batch = {\n",
    "            \"average_risk_score\": batched_analyses[batch_index]['averageRiskScore'],\n",
    "            \"pii_count\": len(batched_analyses[batch_index]['analyses']),\n",
    "        }\n",
    "\n",
    "    batches.append(batch)\n",
    "\n",
    "split_view_df = pd.DataFrame(\n",
    "    batches\n",
    ")\n",
    "split_view_df\n"
   ],
   "metadata": {
    "collapsed": false,
    "pycharm": {
     "name": "#%%\n"
    }
   }
  },
  {
   "cell_type": "markdown",
   "source": [],
   "metadata": {
    "collapsed": false,
    "pycharm": {
     "name": "#%% md\n"
    }
   }
  }
 ],
 "metadata": {
  "kernelspec": {
   "name": "venv",
   "language": "python",
   "display_name": "venv"
  },
  "language_info": {
   "codemirror_mode": {
    "name": "ipython",
    "version": 2
   },
   "file_extension": ".py",
   "mimetype": "text/x-python",
   "name": "python",
   "nbconvert_exporter": "python",
   "pygments_lexer": "ipython2",
   "version": "2.7.6"
  }
 },
 "nbformat": 4,
 "nbformat_minor": 0
}