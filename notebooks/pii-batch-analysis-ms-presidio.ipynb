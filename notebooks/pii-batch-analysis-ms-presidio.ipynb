{
 "cells": [
  {
   "cell_type": "markdown",
   "metadata": {
    "collapsed": true,
    "pycharm": {
     "name": "#%% md\n"
    }
   },
   "source": [
    "# PII Detection on Collection - MSFT Presidio Example\n",
    "The following is an example of how to use the PIIAnalysisService with the MSFT presidio analyzer on a large set of PII.\n",
    "\n",
    "> Note: This notebook requires all dependencies to have been installed. For more information, review readme.\n"
   ]
  },
  {
   "cell_type": "code",
   "execution_count": 1,
   "outputs": [
    {
     "data": {
      "text/plain": "{'collection_name': 'PII Collection 1',\n 'analyses': [{'analysis': [{'pii_type_detected': 'EMAIL_ADDRESS',\n     'risk_level': 3,\n     'risk_level_definition': 'Identifiable',\n     'cluster_membership_type': 'Personal Preferences',\n     'hipaa_category': 'Protected Health Information',\n     'dhs_category': 'Stand Alone PII',\n     'nist_category': 'Directly PII',\n     'entity_type': 'EMAIL_ADDRESS',\n     'score': 1.0,\n     'start': 74,\n     'end': 94},\n    {'pii_type_detected': 'PHONE_NUMBER',\n     'risk_level': 3,\n     'risk_level_definition': 'Identifiable',\n     'cluster_membership_type': 'Contact Information',\n     'hipaa_category': 'Protected Health Information',\n     'dhs_category': 'Stand Alone PII',\n     'nist_category': 'Directly PII',\n     'entity_type': 'PHONE_NUMBER',\n     'score': 0.75,\n     'start': 45,\n     'end': 57},\n    {'pii_type_detected': 'URL',\n     'risk_level': 2,\n     'risk_level_definition': 'Semi-Identifiable',\n     'cluster_membership_type': 'Community Interaction',\n     'hipaa_category': 'Not Protected Health Information',\n     'dhs_category': 'Linkable',\n     'nist_category': 'Linkable',\n     'entity_type': 'URL',\n     'score': 0.5,\n     'start': 85,\n     'end': 94}],\n   'index': 0,\n   'risk_score_mean': 2.6666666666666665},\n  {'analysis': [{'pii_type_detected': 'LOCATION',\n     'risk_level': 2,\n     'risk_level_definition': 'Semi-Identifiable',\n     'cluster_membership_type': 'Secure Identifiers',\n     'hipaa_category': 'Protected Health Information',\n     'dhs_category': 'Not Mentioned',\n     'nist_category': 'Linkable',\n     'entity_type': 'LOCATION',\n     'score': 0.85,\n     'start': 163,\n     'end': 165}],\n   'index': 1,\n   'risk_score_mean': 2},\n  {'analysis': [], 'index': 2, 'risk_score_mean': 1.0},\n  {'analysis': [], 'index': 3, 'risk_score_mean': 1.0}],\n 'detection_count': 4,\n 'risk_scores': [2.6666666666666665, 2, 1.0, 1.0],\n 'risk_score_mean': 1.6666666666666665,\n 'risk_score_standard_deviation': 0.7071067811865475,\n 'risk_score_variance': 0.49999999999999994,\n 'risk_score_mode': 1.0,\n 'risk_score_median': 1.5,\n 'detected_pii_types': ['LOCATION', 'EMAIL_ADDRESS', 'URL', 'PHONE_NUMBER'],\n 'detected_pii_type_frequencies': {'EMAIL_ADDRESS': 1,\n  'PHONE_NUMBER': 1,\n  'URL': 1,\n  'LOCATION': 1}}"
     },
     "execution_count": 1,
     "metadata": {},
     "output_type": "execute_result"
    }
   ],
   "source": [
    "from pii_codex.models.common import AnalysisProviderType\n",
    "from pii_codex.services.pii_analysis import PII_ANALYSIS_SERVICE\n",
    "import pandas as pd\n",
    "\n",
    "# Run the detection and assessments in one shot with the PIIAnalysisService\n",
    "analysis_results = PII_ANALYSIS_SERVICE.analyze_collection(\n",
    "    analysis_provider=AnalysisProviderType.PRESIDIO.name,\n",
    "    texts=[\n",
    "        \"Here is my contact information: Phone number 555-555-5555 and my email is example123@email.com\",\n",
    "        \"Perfect, mine number if you need me is 777-777=7777. Where is the residence and what is the earliest the crew can arrive?\"\n",
    "        \"I'll be at my home at 123 Dark Data Lane, OH, 11111 after 7PM\",\n",
    "        \"Cool, I'll be there!\",\n",
    "        \"Excellent, thanks so much!\"\n",
    "        ],\n",
    "    language_code=\"en\",\n",
    "    collection_type=\"population\",\n",
    "    collection_name=\"PII Collection 1\"\n",
    ")\n",
    "\n",
    "results = analysis_results.to_dict()\n",
    "results"
   ],
   "metadata": {
    "collapsed": false,
    "pycharm": {
     "name": "#%%\n"
    }
   }
  },
  {
   "cell_type": "code",
   "execution_count": 2,
   "outputs": [
    {
     "data": {
      "text/plain": "    collection_name  detection_count                        risk_scores  \\\n0  PII Collection 1                4  [2.6666666666666665, 2, 1.0, 1.0]   \n\n   risk_score_mean  risk_score_standard_deviation  risk_score_variance  \\\n0         1.666667                       0.707107                  0.5   \n\n   risk_score_mode  risk_score_median  \\\n0              1.0                1.5   \n\n                             detected_pii_types  \\\n0  [LOCATION, EMAIL_ADDRESS, URL, PHONE_NUMBER]   \n\n                       detected_pii_type_frequencies  \n0  {'EMAIL_ADDRESS': 1, 'PHONE_NUMBER': 1, 'URL':...  ",
      "text/html": "<div>\n<style scoped>\n    .dataframe tbody tr th:only-of-type {\n        vertical-align: middle;\n    }\n\n    .dataframe tbody tr th {\n        vertical-align: top;\n    }\n\n    .dataframe thead th {\n        text-align: right;\n    }\n</style>\n<table border=\"1\" class=\"dataframe\">\n  <thead>\n    <tr style=\"text-align: right;\">\n      <th></th>\n      <th>collection_name</th>\n      <th>detection_count</th>\n      <th>risk_scores</th>\n      <th>risk_score_mean</th>\n      <th>risk_score_standard_deviation</th>\n      <th>risk_score_variance</th>\n      <th>risk_score_mode</th>\n      <th>risk_score_median</th>\n      <th>detected_pii_types</th>\n      <th>detected_pii_type_frequencies</th>\n    </tr>\n  </thead>\n  <tbody>\n    <tr>\n      <th>0</th>\n      <td>PII Collection 1</td>\n      <td>4</td>\n      <td>[2.6666666666666665, 2, 1.0, 1.0]</td>\n      <td>1.666667</td>\n      <td>0.707107</td>\n      <td>0.5</td>\n      <td>1.0</td>\n      <td>1.5</td>\n      <td>[LOCATION, EMAIL_ADDRESS, URL, PHONE_NUMBER]</td>\n      <td>{'EMAIL_ADDRESS': 1, 'PHONE_NUMBER': 1, 'URL':...</td>\n    </tr>\n  </tbody>\n</table>\n</div>"
     },
     "execution_count": 2,
     "metadata": {},
     "output_type": "execute_result"
    }
   ],
   "source": [
    "# Peering into each and every analysis in collection\n",
    "data = results.copy()\n",
    "del data['analyses']\n",
    "\n",
    "analyses_collection_df = pd.DataFrame(\n",
    "    [data]\n",
    ")\n",
    "\n",
    "analyses_collection_df"
   ],
   "metadata": {
    "collapsed": false,
    "pycharm": {
     "name": "#%%\n"
    }
   }
  },
  {
   "cell_type": "code",
   "execution_count": 3,
   "outputs": [
    {
     "data": {
      "text/plain": "                                                                               0\ncollection_name                                                 PII Collection 1\ndetection_count                                                                4\nrisk_scores                                    [2.6666666666666665, 2, 1.0, 1.0]\nrisk_score_mean                                                         1.666667\nrisk_score_standard_deviation                                           0.707107\nrisk_score_variance                                                          0.5\nrisk_score_mode                                                              1.0\nrisk_score_median                                                            1.5\ndetected_pii_types                  [LOCATION, EMAIL_ADDRESS, URL, PHONE_NUMBER]\ndetected_pii_type_frequencies  {'EMAIL_ADDRESS': 1, 'PHONE_NUMBER': 1, 'URL':...",
      "text/html": "<div>\n<style scoped>\n    .dataframe tbody tr th:only-of-type {\n        vertical-align: middle;\n    }\n\n    .dataframe tbody tr th {\n        vertical-align: top;\n    }\n\n    .dataframe thead th {\n        text-align: right;\n    }\n</style>\n<table border=\"1\" class=\"dataframe\">\n  <thead>\n    <tr style=\"text-align: right;\">\n      <th></th>\n      <th>0</th>\n    </tr>\n  </thead>\n  <tbody>\n    <tr>\n      <th>collection_name</th>\n      <td>PII Collection 1</td>\n    </tr>\n    <tr>\n      <th>detection_count</th>\n      <td>4</td>\n    </tr>\n    <tr>\n      <th>risk_scores</th>\n      <td>[2.6666666666666665, 2, 1.0, 1.0]</td>\n    </tr>\n    <tr>\n      <th>risk_score_mean</th>\n      <td>1.666667</td>\n    </tr>\n    <tr>\n      <th>risk_score_standard_deviation</th>\n      <td>0.707107</td>\n    </tr>\n    <tr>\n      <th>risk_score_variance</th>\n      <td>0.5</td>\n    </tr>\n    <tr>\n      <th>risk_score_mode</th>\n      <td>1.0</td>\n    </tr>\n    <tr>\n      <th>risk_score_median</th>\n      <td>1.5</td>\n    </tr>\n    <tr>\n      <th>detected_pii_types</th>\n      <td>[LOCATION, EMAIL_ADDRESS, URL, PHONE_NUMBER]</td>\n    </tr>\n    <tr>\n      <th>detected_pii_type_frequencies</th>\n      <td>{'EMAIL_ADDRESS': 1, 'PHONE_NUMBER': 1, 'URL':...</td>\n    </tr>\n  </tbody>\n</table>\n</div>"
     },
     "execution_count": 3,
     "metadata": {},
     "output_type": "execute_result"
    }
   ],
   "source": [
    "analyses_collection_df[\n",
    "    ['detection_count',\n",
    "     'risk_scores',\n",
    "     'risk_score_mean',\n",
    "     'risk_score_variance',\n",
    "     'risk_score_standard_deviation',\n",
    "     'risk_score_mode',\n",
    "     'risk_score_median']\n",
    "]\n",
    "analyses_collection_df.T"
   ],
   "metadata": {
    "collapsed": false,
    "pycharm": {
     "name": "#%%\n"
    }
   }
  },
  {
   "cell_type": "code",
   "execution_count": 4,
   "outputs": [
    {
     "data": {
      "text/plain": "<Figure size 640x480 with 2 Axes>",
      "image/png": "[encoded data removed]"
     },
     "metadata": {},
     "output_type": "display_data"
    }
   ],
   "source": [
    "from matplotlib import pyplot as plt\n",
    "import pandas as pd\n",
    "import seaborn as sns\n",
    "\n",
    "sns.color_palette(\"rocket\", as_cmap=True)\n",
    "\n",
    "df = pd.DataFrame({\"scores\":analyses_collection_df.risk_scores.item()})\n",
    "\n",
    "f, (ax_box, ax_hist) = plt.subplots(2)\n",
    "mean=analyses_collection_df['risk_score_mean'].mean()\n",
    "median=analyses_collection_df['risk_score_median'].median()\n",
    "mode=analyses_collection_df['risk_score_mode'].mode().values[0]\n",
    "\n",
    "sns.boxplot(data=df, x=\"scores\", ax=ax_box)\n",
    "ax_box.axvline(mean, color='r', linestyle='--')\n",
    "ax_box.axvline(median, color='g', linestyle='-')\n",
    "ax_box.axvline(mode, color='b', linestyle='-')\n",
    "\n",
    "sns.histplot(data=df, x=\"scores\", ax=ax_hist, kde=True)\n",
    "ax_hist.axvline(mean, color='r', linestyle='--', label=\"Mean\")\n",
    "ax_hist.axvline(median, color='g', linestyle='-', label=\"Median\")\n",
    "ax_hist.axvline(mode, color='b', linestyle='-', label=\"Mode\")\n",
    "\n",
    "ax_hist.legend()\n",
    "\n",
    "ax_box.set(xlabel='')\n",
    "plt.show()"
   ],
   "metadata": {
    "collapsed": false,
    "pycharm": {
     "name": "#%%\n"
    }
   }
  }
 ],
 "metadata": {
  "kernelspec": {
   "name": "venv",
   "language": "python",
   "display_name": "venv"
  },
  "language_info": {
   "codemirror_mode": {
    "name": "ipython",
    "version": 2
   },
   "file_extension": ".py",
   "mimetype": "text/x-python",
   "name": "python",
   "nbconvert_exporter": "python",
   "pygments_lexer": "ipython2",
   "version": "2.7.6"
  }
 },
 "nbformat": 4,
 "nbformat_minor": 0
}